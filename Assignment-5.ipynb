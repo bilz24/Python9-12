{
 "cells": [
  {
   "cell_type": "markdown",
   "id": "014121f8-e36e-4d78-b7ae-524b2e48ed11",
   "metadata": {},
   "source": [
    "1. Write a Python program to print the numbers from 1 to 10 using a for loop. "
   ]
  },
  {
   "cell_type": "code",
   "execution_count": 1,
   "id": "16e2e440-6253-4175-b95d-f86db94e0e49",
   "metadata": {},
   "outputs": [
    {
     "name": "stdout",
     "output_type": "stream",
     "text": [
      "1\n",
      "2\n",
      "3\n",
      "4\n",
      "5\n",
      "6\n",
      "7\n",
      "8\n",
      "9\n",
      "10\n"
     ]
    }
   ],
   "source": [
    "for i in range(1, 11):\n",
    "    print(i)"
   ]
  },
  {
   "cell_type": "markdown",
   "id": "52529a30-1c6b-4e47-9020-5aa156c7ead0",
   "metadata": {},
   "source": [
    "2. Write a Python program to print the numbers from 20 to 1 using a while loop.\n"
   ]
  },
  {
   "cell_type": "code",
   "execution_count": 2,
   "id": "d2e8c3aa-e2a5-40a0-a986-93eecf81ed0c",
   "metadata": {},
   "outputs": [
    {
     "name": "stdout",
     "output_type": "stream",
     "text": [
      "20\n",
      "19\n",
      "18\n",
      "17\n",
      "16\n",
      "15\n",
      "14\n",
      "13\n",
      "12\n",
      "11\n",
      "10\n",
      "9\n",
      "8\n",
      "7\n",
      "6\n",
      "5\n",
      "4\n",
      "3\n",
      "2\n",
      "1\n"
     ]
    }
   ],
   "source": [
    "i = 20\n",
    "while i >= 1:\n",
    "    print(i)\n",
    "    i -= 1"
   ]
  },
  {
   "cell_type": "markdown",
   "id": "ae724ed5-6b9f-4651-8a79-75e8943a5985",
   "metadata": {},
   "source": [
    "3. Write a program to print even numbers from 1 to 10"
   ]
  },
  {
   "cell_type": "code",
   "execution_count": 3,
   "id": "4df46ad3-1ff3-4ae6-9efb-3b0c2cd33d6d",
   "metadata": {},
   "outputs": [
    {
     "name": "stdout",
     "output_type": "stream",
     "text": [
      "2\n",
      "4\n",
      "6\n",
      "8\n",
      "10\n"
     ]
    }
   ],
   "source": [
    "for i in range(1, 11):\n",
    "    if i % 2 == 0:\n",
    "        print(i)"
   ]
  },
  {
   "cell_type": "markdown",
   "id": "a3ac67a9-cd17-46bb-a063-2216fdf3fada",
   "metadata": {},
   "source": [
    "4. Write a program that prompts the user to enter a number n and prints all the \n",
    "numbers from 1 to n. \n"
   ]
  },
  {
   "cell_type": "code",
   "execution_count": 4,
   "id": "61ca2815-d305-4dd1-9291-74606b829fe5",
   "metadata": {},
   "outputs": [
    {
     "name": "stdin",
     "output_type": "stream",
     "text": [
      "Enter a number:  19\n"
     ]
    },
    {
     "name": "stdout",
     "output_type": "stream",
     "text": [
      "1\n",
      "2\n",
      "3\n",
      "4\n",
      "5\n",
      "6\n",
      "7\n",
      "8\n",
      "9\n",
      "10\n",
      "11\n",
      "12\n",
      "13\n",
      "14\n",
      "15\n",
      "16\n",
      "17\n",
      "18\n",
      "19\n"
     ]
    }
   ],
   "source": [
    "n = int(input(\"Enter a number: \"))\n",
    "for i in range(1, n + 1):\n",
    "    print(i)"
   ]
  },
  {
   "cell_type": "markdown",
   "id": "66754e90-159d-4cd9-a791-9406da69fb3e",
   "metadata": {},
   "source": [
    "5. Write a program that prompts the user to enter a number n, and then prints all the \n",
    "odd numbers between 1 and n. "
   ]
  },
  {
   "cell_type": "code",
   "execution_count": 5,
   "id": "0bfcab69-eddc-4d3c-a3d3-58aff3e593ba",
   "metadata": {},
   "outputs": [
    {
     "name": "stdin",
     "output_type": "stream",
     "text": [
      "Enter a number:  19\n"
     ]
    },
    {
     "name": "stdout",
     "output_type": "stream",
     "text": [
      "1\n",
      "3\n",
      "5\n",
      "7\n",
      "9\n",
      "11\n",
      "13\n",
      "15\n",
      "17\n",
      "19\n"
     ]
    }
   ],
   "source": [
    "n = int(input(\"Enter a number: \"))\n",
    "for i in range(1, n + 1):\n",
    "    if i % 2 != 0:\n",
    "        print(i)"
   ]
  },
  {
   "cell_type": "markdown",
   "id": "7bef2cc4-da05-46e5-b05b-07d6583a183a",
   "metadata": {},
   "source": [
    "6. Write a program that prints 'Happy Birthday!' five times on screen. "
   ]
  },
  {
   "cell_type": "code",
   "execution_count": 6,
   "id": "fa60b021-a438-456a-878f-77eb90c17dd7",
   "metadata": {},
   "outputs": [
    {
     "name": "stdout",
     "output_type": "stream",
     "text": [
      "Happy Birthday!\n",
      "Happy Birthday!\n",
      "Happy Birthday!\n",
      "Happy Birthday!\n",
      "Happy Birthday!\n"
     ]
    }
   ],
   "source": [
    "for i in range(5):\n",
    "    print(\"Happy Birthday!\")"
   ]
  },
  {
   "cell_type": "markdown",
   "id": "2dc0eb7c-43ca-43fe-9d2c-a262c216b269",
   "metadata": {},
   "source": [
    "7. Write a program that takes a number n as input from the user and generates the first \n",
    "n terms of the series formed by squaring the natural numbers. \n",
    "Sample output \n",
    "Enter a number: 6 \n",
    "The first 6 terms of the series are: \n",
    "1 4 9 16 25 36 "
   ]
  },
  {
   "cell_type": "code",
   "execution_count": 7,
   "id": "23b4ef72-fafb-4778-bb0b-ab355bb187d7",
   "metadata": {},
   "outputs": [
    {
     "name": "stdin",
     "output_type": "stream",
     "text": [
      "Enter a number:  20\n"
     ]
    },
    {
     "name": "stdout",
     "output_type": "stream",
     "text": [
      "1^2 = 1\n",
      "2^2 = 4\n",
      "3^2 = 9\n",
      "4^2 = 16\n",
      "5^2 = 25\n",
      "6^2 = 36\n",
      "7^2 = 49\n",
      "8^2 = 64\n",
      "9^2 = 81\n",
      "10^2 = 100\n",
      "11^2 = 121\n",
      "12^2 = 144\n",
      "13^2 = 169\n",
      "14^2 = 196\n",
      "15^2 = 225\n",
      "16^2 = 256\n",
      "17^2 = 289\n",
      "18^2 = 324\n",
      "19^2 = 361\n",
      "20^2 = 400\n"
     ]
    }
   ],
   "source": [
    "n = int(input(\"Enter a number: \"))\n",
    "for i in range(1, n + 1):\n",
    "    square = i ** 2\n",
    "    print(f\"{i}^2 = {square}\")"
   ]
  },
  {
   "cell_type": "markdown",
   "id": "34d381c9-cbd9-4a71-ab37-126c97af6f73",
   "metadata": {},
   "source": [
    "8. Write a program that prompts the user to input a number and prints its multiplication \n",
    "table."
   ]
  },
  {
   "cell_type": "code",
   "execution_count": 8,
   "id": "8a92648b-af3c-4aa2-ab7e-11d8e6b9ebbf",
   "metadata": {},
   "outputs": [
    {
     "name": "stdin",
     "output_type": "stream",
     "text": [
      "Enter a number:  5\n"
     ]
    },
    {
     "name": "stdout",
     "output_type": "stream",
     "text": [
      "Multiplication table of 5:\n",
      "5 x 1 = 5\n",
      "5 x 2 = 10\n",
      "5 x 3 = 15\n",
      "5 x 4 = 20\n",
      "5 x 5 = 25\n",
      "5 x 6 = 30\n",
      "5 x 7 = 35\n",
      "5 x 8 = 40\n",
      "5 x 9 = 45\n",
      "5 x 10 = 50\n"
     ]
    }
   ],
   "source": [
    "num = int(input(\"Enter a number: \"))\n",
    "\n",
    "print(f\"Multiplication table of {num}:\")\n",
    "for i in range(1, 11):\n",
    "    product = num * i\n",
    "    print(f\"{num} x {i} = {product}\")"
   ]
  },
  {
   "cell_type": "markdown",
   "id": "1fdf1ccb-cf76-40f7-8013-efdc244b7d6b",
   "metadata": {},
   "source": [
    "9. Write a Python program to print the first 8 terms of an arithmetic progression starting \n",
    "with 3 and having a common difference of 4. \n",
    "The program should output the following sequence: \n",
    "3 7 11 15 19 23 27 31 "
   ]
  },
  {
   "cell_type": "code",
   "execution_count": 9,
   "id": "94c2c36c-fea5-48df-bff5-2403b945237f",
   "metadata": {},
   "outputs": [
    {
     "name": "stdout",
     "output_type": "stream",
     "text": [
      "3 7 11 15 19 23 27 31 "
     ]
    }
   ],
   "source": [
    "first_term = 3\n",
    "common_difference = 4\n",
    "num_terms = 8\n",
    "\n",
    "for i in range(num_terms):\n",
    "    term = first_term + (i * common_difference)\n",
    "    print(term, end=\" \")"
   ]
  },
  {
   "cell_type": "markdown",
   "id": "eda9d869-1fd0-4769-8dba-e530fee48c28",
   "metadata": {},
   "source": [
    "10. Write a Python program to print the first 6 terms of a geometric sequence starting \n",
    "with 2 and having a common ratio of 3. \n",
    "The program should output the following sequence: \n",
    "2 6 18 54 162 486"
   ]
  },
  {
   "cell_type": "code",
   "execution_count": 11,
   "id": "4c33395c-23fc-4028-af68-29a828536e8e",
   "metadata": {},
   "outputs": [
    {
     "name": "stdout",
     "output_type": "stream",
     "text": [
      "2 6 18 54 162 486 "
     ]
    }
   ],
   "source": [
    "first_term = 2\n",
    "common_ratio = 3\n",
    "num_terms = 6\n",
    "\n",
    "for i in range(num_terms):\n",
    "    term = first_term * (common_ratio ** i)\n",
    "    print(term, end=\" \")"
   ]
  },
  {
   "cell_type": "markdown",
   "id": "ff8d289f-e1e1-4955-a75f-755c6d99fde6",
   "metadata": {},
   "source": [
    "11. Write a program that asks the user for a positive integer value. The program should \n",
    "calculate the sum of all the integers from 1 up to the number entered. For example, if \n",
    "the user enters 20, the loop will find the sum of 1, 2, 3, 4, ... 20. "
   ]
  },
  {
   "cell_type": "code",
   "execution_count": 12,
   "id": "f4ff219a-147e-4e16-aca6-07de9c36d08f",
   "metadata": {},
   "outputs": [
    {
     "name": "stdin",
     "output_type": "stream",
     "text": [
      "Enter a positive integer:  13\n"
     ]
    },
    {
     "name": "stdout",
     "output_type": "stream",
     "text": [
      "The sum of integers from 1 to 13 is: 91\n"
     ]
    }
   ],
   "source": [
    "def calculate_sum():\n",
    "    while True:\n",
    "        try:\n",
    "            num = int(input(\"Enter a positive integer: \"))\n",
    "            if num <= 0:\n",
    "                print(\"Please enter a positive integer.\")\n",
    "            else:\n",
    "                break\n",
    "        except ValueError:\n",
    "            print(\"Invalid input. Please enter a positive integer.\")\n",
    "\n",
    "    total = 0\n",
    "    for i in range(1, num + 1):\n",
    "        total += i\n",
    "\n",
    "    print(f\"The sum of integers from 1 to {num} is: {total}\")\n",
    "\n",
    "calculate_sum()"
   ]
  },
  {
   "cell_type": "markdown",
   "id": "abdecb74-5384-4b3f-aa71-fc299f34bd74",
   "metadata": {},
   "source": [
    "12. write a program that takes a positive integer N as input and calculates the sum of \n",
    "the reciprocals of all numbers from 1 up to N. The program should display the final sum. \n",
    "Output of the program should be like: \n",
    "Enter a positive integer: 5 \n",
    "The sum of reciprocals from 1 to 5 is: 2.28 "
   ]
  },
  {
   "cell_type": "code",
   "execution_count": 13,
   "id": "fca16a63-901b-4b0b-b8de-5ad6e1624fd2",
   "metadata": {},
   "outputs": [
    {
     "name": "stdin",
     "output_type": "stream",
     "text": [
      "Enter a positive integer:  13\n"
     ]
    },
    {
     "name": "stdout",
     "output_type": "stream",
     "text": [
      "The sum of reciprocals from 1 to 13 is: 3.18\n"
     ]
    }
   ],
   "source": [
    "def calculate_sum_of_reciprocals():\n",
    "    while True:\n",
    "        try:\n",
    "            num = int(input(\"Enter a positive integer: \"))\n",
    "            if num <= 0:\n",
    "                print(\"Please enter a positive integer.\")\n",
    "            else:\n",
    "                break\n",
    "        except ValueError:\n",
    "            print(\"Invalid input. Please enter a positive integer.\")\n",
    "\n",
    "    total = 0.0\n",
    "    for i in range(1, num + 1):\n",
    "        total += 1.0 / i\n",
    "\n",
    "    print(f\"The sum of reciprocals from 1 to {num} is: {total:.2f}\")\n",
    "\n",
    "calculate_sum_of_reciprocals()"
   ]
  },
  {
   "cell_type": "markdown",
   "id": "4cf1b97a-109c-42c3-bba3-cc4e9aa0d04b",
   "metadata": {},
   "source": [
    "13. Write a program that prompts the user to enter a number and repeats this process 5 \n",
    "times. The program should accumulate the numbers entered and then display the final \n",
    "running total. \n",
    "Sample Output: \n",
    "Enter a number: 10 \n",
    "Enter a number: 15 \n",
    "Enter a number: 35 \n",
    "Enter a number: 40 \n",
    "Enter a number: 50 \n",
    "The final running total is: 150 "
   ]
  },
  {
   "cell_type": "code",
   "execution_count": 15,
   "id": "ef2dfff6-aff6-4ebc-9fe2-1e2131a93039",
   "metadata": {},
   "outputs": [
    {
     "name": "stdin",
     "output_type": "stream",
     "text": [
      "Enter a number:  10\n",
      "Enter a number:  15\n",
      "Enter a number:  35\n",
      "Enter a number:  40\n",
      "Enter a number:  50\n"
     ]
    },
    {
     "name": "stdout",
     "output_type": "stream",
     "text": [
      "The final running total is: 150.0\n"
     ]
    }
   ],
   "source": [
    "def calculate_running_total():\n",
    "    total = 0\n",
    "    for i in range(5):\n",
    "        while True:\n",
    "            try:\n",
    "                num = float(input(\"Enter a number: \"))\n",
    "                break\n",
    "            except ValueError:\n",
    "                print(\"Invalid input. Please enter a number.\")\n",
    "        total += num\n",
    "\n",
    "    print(f\"The final running total is: {total}\")\n",
    "\n",
    "calculate_running_total()"
   ]
  },
  {
   "cell_type": "markdown",
   "id": "6a1dd010-f3d5-4da0-bd34-ddd9716f5399",
   "metadata": {},
   "source": [
    "14. Write a program that prompts the user to enter a positive integer and calculates its \n",
    "factorial. The factorial of a positive integer 'n' is denoted as 'n!' and is calculated by \n",
    "multiplying all the integers from 1 to 'n' together. For example, the factorial of 5 \n",
    "(denoted as 5!) is calculated as 1 x 2 x 3 x 4 x 5. \n",
    "The program should display the factorial value if the input is a positive number, or \n",
    "display a message stating that the factorial does not exist for negative numbers. \n",
    "Additionally, for an input of zero, the program should output that the factorial of 0 is 1."
   ]
  },
  {
   "cell_type": "code",
   "execution_count": 16,
   "id": "aa076b9a-d288-477c-8291-b45a84b33fce",
   "metadata": {},
   "outputs": [
    {
     "name": "stdin",
     "output_type": "stream",
     "text": [
      "Enter a positive integer:  5\n"
     ]
    },
    {
     "name": "stdout",
     "output_type": "stream",
     "text": [
      "The factorial of 5 is 120.\n"
     ]
    }
   ],
   "source": [
    "def calculate_factorial():\n",
    "    while True:\n",
    "        try:\n",
    "            num = int(input(\"Enter a positive integer: \"))\n",
    "            break\n",
    "        except ValueError:\n",
    "            print(\"Invalid input. Please enter a positive integer.\")\n",
    "\n",
    "    if num < 0:\n",
    "        print(\"Factorial does not exist for negative numbers.\")\n",
    "    elif num == 0:\n",
    "        print(\"The factorial of 0 is 1.\")\n",
    "    else:\n",
    "        factorial = 1\n",
    "        for i in range(1, num + 1):\n",
    "            factorial *= i\n",
    "        print(f\"The factorial of {num} is {factorial}.\")\n",
    "calculate_factorial()"
   ]
  },
  {
   "cell_type": "markdown",
   "id": "28e67970-7787-4aee-b753-bc8024bc0c0b",
   "metadata": {},
   "source": [
    "15. Write a Python program that prompts the user to enter a base number and an \n",
    "exponent, and then calculates the power of the base to the exponent. The program \n",
    "should not use the exponentiation operator (**) or the math.pow() function. The \n",
    "program should handle both positive and negative exponents."
   ]
  },
  {
   "cell_type": "code",
   "execution_count": 17,
   "id": "d491b461-0701-4e64-b9a1-5adb7c9f5d29",
   "metadata": {},
   "outputs": [
    {
     "name": "stdin",
     "output_type": "stream",
     "text": [
      "Enter the base number:  10\n",
      "Enter the exponent:  2\n"
     ]
    },
    {
     "name": "stdout",
     "output_type": "stream",
     "text": [
      "10.0 to the power of 2 is 100.0\n"
     ]
    }
   ],
   "source": [
    "def calculate_power():\n",
    "    while True:\n",
    "        try:\n",
    "            base = float(input(\"Enter the base number: \"))\n",
    "            exponent = int(input(\"Enter the exponent: \"))\n",
    "            break\n",
    "        except ValueError:\n",
    "            print(\"Invalid input. Please enter a number for the base and an integer for the exponent.\")\n",
    "\n",
    "    if exponent == 0:\n",
    "        result = 1\n",
    "    elif exponent < 0:\n",
    "        result = 1 / calculate_power_recursive(base, -exponent)\n",
    "    else:\n",
    "        result = calculate_power_recursive(base, exponent)\n",
    "\n",
    "    print(f\"{base} to the power of {exponent} is {result}\")\n",
    "\n",
    "def calculate_power_recursive(base, exponent):\n",
    "    if exponent == 1:\n",
    "        return base\n",
    "    else:\n",
    "        return base * calculate_power_recursive(base, exponent - 1)\n",
    "\n",
    "calculate_power()"
   ]
  },
  {
   "cell_type": "code",
   "execution_count": null,
   "id": "2cc03ec3-5692-4a75-ab70-e304ae81f448",
   "metadata": {},
   "outputs": [],
   "source": []
  }
 ],
 "metadata": {
  "kernelspec": {
   "display_name": "Python 3 (ipykernel)",
   "language": "python",
   "name": "python3"
  },
  "language_info": {
   "codemirror_mode": {
    "name": "ipython",
    "version": 3
   },
   "file_extension": ".py",
   "mimetype": "text/x-python",
   "name": "python",
   "nbconvert_exporter": "python",
   "pygments_lexer": "ipython3",
   "version": "3.11.7"
  }
 },
 "nbformat": 4,
 "nbformat_minor": 5
}
