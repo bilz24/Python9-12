{
 "cells": [
  {
   "cell_type": "markdown",
   "id": "dd5e85df-790c-4357-8e13-6f04c344bd5e",
   "metadata": {},
   "source": [
    "1. Write a program that accepts a list from user and print the alternate element of list."
   ]
  },
  {
   "cell_type": "code",
   "execution_count": 1,
   "id": "599ce84e-09a3-4c23-abff-9dbf7ff941ba",
   "metadata": {},
   "outputs": [
    {
     "name": "stdin",
     "output_type": "stream",
     "text": [
      "Enter a list of elements separated by spaces:  bilal han ah\n"
     ]
    },
    {
     "name": "stdout",
     "output_type": "stream",
     "text": [
      "Alternate elements of the list are: ['bilal', 'ah']\n"
     ]
    }
   ],
   "source": [
    "# Accept a list from the user\n",
    "user_input = input(\"Enter a list of elements separated by spaces: \")\n",
    "user_list = user_input.split()\n",
    "\n",
    "# Print the alternate elements of the list\n",
    "alternate_elements = user_list[::2]\n",
    "print(\"Alternate elements of the list are:\", alternate_elements)\n"
   ]
  },
  {
   "cell_type": "markdown",
   "id": "9e308000-4201-44d1-9cca-2ceb1597e8a5",
   "metadata": {},
   "source": [
    "2. Write a program that accepts a list from user. Your program should reverse the content of list and \n",
    "display it. Do not use reverse() method."
   ]
  },
  {
   "cell_type": "code",
   "execution_count": 2,
   "id": "72c22e61-043c-479c-b6e7-146fafc2db58",
   "metadata": {},
   "outputs": [
    {
     "name": "stdin",
     "output_type": "stream",
     "text": [
      "Enter a list of elements separated by spaces:  e yo r\n"
     ]
    },
    {
     "name": "stdout",
     "output_type": "stream",
     "text": [
      "Reversed list is: ['r', 'yo', 'e']\n"
     ]
    }
   ],
   "source": [
    "# Accept a list from the user\n",
    "user_input = input(\"Enter a list of elements separated by spaces: \")\n",
    "user_list = user_input.split()\n",
    "\n",
    "# Reverse the list without using reverse() method\n",
    "reversed_list = user_list[::-1]\n",
    "\n",
    "# Display the reversed list\n",
    "print(\"Reversed list is:\", reversed_list)\n"
   ]
  },
  {
   "cell_type": "markdown",
   "id": "a79b4a59-7f27-4130-a77b-7b3f78658365",
   "metadata": {},
   "source": [
    "3. Find and display the largest number of a list without using built-in function max(). Your program \n",
    "should ask the user to input values in list from keyboard."
   ]
  },
  {
   "cell_type": "code",
   "execution_count": 3,
   "id": "a8084fab-3762-4cff-9659-3f95594e1ab1",
   "metadata": {},
   "outputs": [
    {
     "name": "stdin",
     "output_type": "stream",
     "text": [
      "Enter a list of numbers separated by spaces:  5 67 5 55\n"
     ]
    },
    {
     "name": "stdout",
     "output_type": "stream",
     "text": [
      "The largest number in the list is: 67\n"
     ]
    }
   ],
   "source": [
    "# Accept a list of numbers from the user\n",
    "user_input = input(\"Enter a list of numbers separated by spaces: \")\n",
    "user_list = list(map(int, user_input.split()))\n",
    "\n",
    "# Find the largest number without using max() function\n",
    "largest = user_list[0]\n",
    "for num in user_list:\n",
    "    if num > largest:\n",
    "        largest = num\n",
    "\n",
    "# Display the largest number\n",
    "print(\"The largest number in the list is:\", largest)\n"
   ]
  },
  {
   "cell_type": "markdown",
   "id": "c1372363-13fc-4b1f-96b2-b88b93809539",
   "metadata": {},
   "source": [
    "4. Write a program that rotates the element of a list so that the element at the first index moves to the \n",
    "second index, the element in the second index moves to the third index, etc., and the element in the last \n",
    "index moves to the first index. \n"
   ]
  },
  {
   "cell_type": "code",
   "execution_count": 4,
   "id": "7d88ed28-ca25-4492-81d7-a9259fa8b697",
   "metadata": {},
   "outputs": [
    {
     "name": "stdin",
     "output_type": "stream",
     "text": [
      "Enter a list of elements separated by spaces:  exams\n"
     ]
    },
    {
     "name": "stdout",
     "output_type": "stream",
     "text": [
      "Rotated list is: ['exams']\n"
     ]
    }
   ],
   "source": [
    "# Accept a list from the user\n",
    "user_input = input(\"Enter a list of elements separated by spaces: \")\n",
    "user_list = user_input.split()\n",
    "\n",
    "# Rotate the list elements\n",
    "rotated_list = user_list[-1:] + user_list[:-1]\n",
    "\n",
    "# Display the rotated list\n",
    "print(\"Rotated list is:\", rotated_list)\n"
   ]
  },
  {
   "cell_type": "markdown",
   "id": "61c2ce3c-95a7-41ca-ab5f-6335b2f0c4d6",
   "metadata": {},
   "source": [
    "5. Write a program that input a string and ask user to delete a given word from a string."
   ]
  },
  {
   "cell_type": "code",
   "execution_count": 5,
   "id": "434da34f-76e8-4dc1-990b-593199ccf7e3",
   "metadata": {},
   "outputs": [
    {
     "name": "stdin",
     "output_type": "stream",
     "text": [
      "Enter a string:  bilal\n",
      "Enter the word to delete:  i\n"
     ]
    },
    {
     "name": "stdout",
     "output_type": "stream",
     "text": [
      "String after deleting the word: blal\n"
     ]
    }
   ],
   "source": [
    "# Accept a string from the user\n",
    "user_string = input(\"Enter a string: \")\n",
    "\n",
    "# Ask the user for the word to delete\n",
    "word_to_delete = input(\"Enter the word to delete: \")\n",
    "\n",
    "# Remove the word from the string\n",
    "modified_string = user_string.replace(word_to_delete, \"\")\n",
    "\n",
    "# Display the modified string\n",
    "print(\"String after deleting the word:\", modified_string)\n"
   ]
  },
  {
   "cell_type": "markdown",
   "id": "84b7c66d-4fc1-4923-b0de-aac7f1beb5f1",
   "metadata": {},
   "source": [
    "6. Write a program that reads a string from the user containing a date in the form mm/dd/yyyy. It \n",
    "should print the date in the form March 12, 2021. "
   ]
  },
  {
   "cell_type": "code",
   "execution_count": 6,
   "id": "d37228de-5d04-4571-a82b-18cb28a79a56",
   "metadata": {},
   "outputs": [
    {
     "name": "stdin",
     "output_type": "stream",
     "text": [
      "Enter a date (mm/dd/yyyy):  8/16/2024\n"
     ]
    },
    {
     "name": "stdout",
     "output_type": "stream",
     "text": [
      "August 16, 2024\n"
     ]
    }
   ],
   "source": [
    "# Accept a date from the user in the format mm/dd/yyyy\n",
    "date_input = input(\"Enter a date (mm/dd/yyyy): \")\n",
    "\n",
    "# Split the date into month, day, and year\n",
    "month, day, year = date_input.split('/')\n",
    "\n",
    "# Define a list of month names\n",
    "months = [\"January\", \"February\", \"March\", \"April\", \"May\", \"June\", \n",
    "          \"July\", \"August\", \"September\", \"October\", \"November\", \"December\"]\n",
    "\n",
    "# Convert the month number to month name\n",
    "month_name = months[int(month) - 1]\n",
    "\n",
    "# Print the date in the desired format\n",
    "print(f\"{month_name} {int(day)}, {year}\")\n"
   ]
  },
  {
   "cell_type": "markdown",
   "id": "fcea25f2-1db6-48fb-9910-58708f5eecb5",
   "metadata": {},
   "source": [
    "7. Write a program with a function that accepts a string from keyboard and create a new string after \n",
    "converting character of each word capitalized. For instance, if the sentence is \"stop and smell the roses.\" \n",
    "the output should be \"Stop And Smell The Roses\" \n"
   ]
  },
  {
   "cell_type": "code",
   "execution_count": 7,
   "id": "cab74cc0-9fcd-45b2-8209-91208f0117c2",
   "metadata": {},
   "outputs": [
    {
     "name": "stdin",
     "output_type": "stream",
     "text": [
      "Enter a sentence:  stop and smell the roses\n"
     ]
    },
    {
     "name": "stdout",
     "output_type": "stream",
     "text": [
      "Stop And Smell The Roses\n"
     ]
    }
   ],
   "source": [
    "def capitalize_words(sentence):\n",
    "    # Split the sentence into words\n",
    "    words = sentence.split()\n",
    "    \n",
    "    # Capitalize the first letter of each word and join them back into a sentence\n",
    "    capitalized_words = [word.capitalize() for word in words]\n",
    "    result = ' '.join(capitalized_words)\n",
    "    \n",
    "    return result\n",
    "\n",
    "# Get input from the user\n",
    "input_sentence = input(\"Enter a sentence: \")\n",
    "\n",
    "# Call the function and display the result\n",
    "output_sentence = capitalize_words(input_sentence)\n",
    "print(output_sentence)\n"
   ]
  },
  {
   "cell_type": "markdown",
   "id": "84b94d8c-6381-42f4-a80b-4b5a2c8b6d4f",
   "metadata": {},
   "source": [
    "8. Find the sum of each row of matrix of size m x n. For example for the following matrix output will be \n",
    "like this : \n",
    "2  11  7  12\n",
    "5  2  9  15\n",
    "8  3  10  42\n",
    "Sum of row 1 = 32 \n",
    "Sum of row 2 = 31 \n",
    "Sum of row 3 = 63 "
   ]
  },
  {
   "cell_type": "code",
   "execution_count": 11,
   "id": "36b5d8d9-6cb0-4874-9acf-598eef6c08ab",
   "metadata": {},
   "outputs": [
    {
     "name": "stdout",
     "output_type": "stream",
     "text": [
      "Sum of row 1 = 32\n",
      "Sum of row 2 = 31\n",
      "Sum of row 3 = 63\n"
     ]
    }
   ],
   "source": [
    "def sum_of_rows(matrix):\n",
    "    # Iterate through each row in the matrix\n",
    "    for i, row in enumerate(matrix):\n",
    "        # Calculate the sum of the current row\n",
    "        row_sum = sum(row)\n",
    "        # Print the sum of the current row\n",
    "        print(f\"Sum of row {i + 1} = {row_sum}\")\n",
    "\n",
    "# Example matrix\n",
    "matrix = [\n",
    "    [2, 11, 7, 12],\n",
    "    [5, 2, 9, 15],\n",
    "    [8, 3, 10, 42]\n",
    "]\n",
    "\n",
    "# Call the function with the example matrix\n",
    "sum_of_rows(matrix)\n"
   ]
  },
  {
   "cell_type": "markdown",
   "id": "f933b1d6-d3fd-49f6-9ff4-328297893efb",
   "metadata": {},
   "source": [
    "9. Write a program to add two matrices of size n x m. "
   ]
  },
  {
   "cell_type": "code",
   "execution_count": 9,
   "id": "505e36af-796f-4be2-a1d9-89062dc224fe",
   "metadata": {},
   "outputs": [
    {
     "name": "stdout",
     "output_type": "stream",
     "text": [
      "Sum of the matrices:\n",
      "[8, 10, 12]\n",
      "[14, 16, 18]\n"
     ]
    }
   ],
   "source": [
    "def add_matrices(matrix1, matrix2):\n",
    "    # Get the number of rows and columns\n",
    "    n = len(matrix1)\n",
    "    m = len(matrix1[0])\n",
    "    \n",
    "    # Initialize the result matrix with zeros\n",
    "    result = [[0 for _ in range(m)] for _ in range(n)]\n",
    "    \n",
    "    # Iterate through each element to compute the sum\n",
    "    for i in range(n):\n",
    "        for j in range(m):\n",
    "            result[i][j] = matrix1[i][j] + matrix2[i][j]\n",
    "    \n",
    "    return result\n",
    "\n",
    "# Example matrices\n",
    "matrix1 = [\n",
    "    [1, 2, 3],\n",
    "    [4, 5, 6]\n",
    "]\n",
    "\n",
    "matrix2 = [\n",
    "    [7, 8, 9],\n",
    "    [10, 11, 12]\n",
    "]\n",
    "\n",
    "# Call the function to add the matrices\n",
    "sum_matrix = add_matrices(matrix1, matrix2)\n",
    "\n",
    "# Print the result\n",
    "print(\"Sum of the matrices:\")\n",
    "for row in sum_matrix:\n",
    "    print(row)\n"
   ]
  },
  {
   "cell_type": "markdown",
   "id": "a0296922-35ed-4e99-910c-44aaa2438e14",
   "metadata": {},
   "source": [
    "10. Write a program to multiply two matrices"
   ]
  },
  {
   "cell_type": "code",
   "execution_count": 10,
   "id": "f067bb00-34da-413f-a158-c52cbcef7e5c",
   "metadata": {},
   "outputs": [
    {
     "name": "stdout",
     "output_type": "stream",
     "text": [
      "Product of the matrices:\n",
      "[19, 22]\n",
      "[43, 50]\n"
     ]
    }
   ],
   "source": [
    "def multiply_matrices(matrix1, matrix2):\n",
    "    # Get dimensions of the matrices\n",
    "    n = len(matrix1)       # Number of rows in matrix1\n",
    "    m = len(matrix1[0])    # Number of columns in matrix1\n",
    "    p = len(matrix2[0])    # Number of columns in matrix2\n",
    "    \n",
    "    # Initialize the result matrix with zeros\n",
    "    result = [[0 for _ in range(p)] for _ in range(n)]\n",
    "    \n",
    "    # Perform matrix multiplication\n",
    "    for i in range(n):\n",
    "        for j in range(p):\n",
    "            # Calculate the value of each cell in the result matrix\n",
    "            result[i][j] = sum(matrix1[i][k] * matrix2[k][j] for k in range(m))\n",
    "    \n",
    "    return result\n",
    "\n",
    "# Example matrices\n",
    "matrix1 = [\n",
    "    [1, 2],\n",
    "    [3, 4]\n",
    "]\n",
    "\n",
    "matrix2 = [\n",
    "    [5, 6],\n",
    "    [7, 8]\n",
    "]\n",
    "\n",
    "# Call the function to multiply the matrices\n",
    "product_matrix = multiply_matrices(matrix1, matrix2)\n",
    "\n",
    "# Print the result\n",
    "print(\"Product of the matrices:\")\n",
    "for row in product_matrix:\n",
    "    print(row)\n"
   ]
  }
 ],
 "metadata": {
  "kernelspec": {
   "display_name": "Python 3 (ipykernel)",
   "language": "python",
   "name": "python3"
  },
  "language_info": {
   "codemirror_mode": {
    "name": "ipython",
    "version": 3
   },
   "file_extension": ".py",
   "mimetype": "text/x-python",
   "name": "python",
   "nbconvert_exporter": "python",
   "pygments_lexer": "ipython3",
   "version": "3.11.7"
  }
 },
 "nbformat": 4,
 "nbformat_minor": 5
}
