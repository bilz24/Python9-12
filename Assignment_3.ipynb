{
 "cells": [
  {
   "cell_type": "markdown",
   "id": "c59fc332-2aae-4015-928d-05ab0ce63fc4",
   "metadata": {},
   "source": [
    "1. Write a program that accepts a string from user. Your program should count and display number of vowels in that string. "
   ]
  },
  {
   "cell_type": "code",
   "execution_count": 12,
   "id": "7b70c15a-90df-4ba5-b47b-a1ac61febc65",
   "metadata": {},
   "outputs": [
    {
     "name": "stdin",
     "output_type": "stream",
     "text": [
      "Enter a string:  bILAL\n"
     ]
    },
    {
     "name": "stdout",
     "output_type": "stream",
     "text": [
      "Number of vowels in the string: 2\n"
     ]
    }
   ],
   "source": [
    "# Function to count vowels in a string\n",
    "def count_vowels(input_string):\n",
    "    vowels = \"aeiouAEIOU\"\n",
    "    count = 0\n",
    "    for char in input_string:\n",
    "        if char in vowels:\n",
    "            count += 1\n",
    "    return count\n",
    "\n",
    "# Main program\n",
    "user_input = input(\"Enter a string: \")\n",
    "vowel_count = count_vowels(user_input)\n",
    "print(\"Number of vowels in the string:\", vowel_count)\n"
   ]
  },
  {
   "cell_type": "markdown",
   "id": "183645db-0ac0-4844-a601-d0dbcaaf21bf",
   "metadata": {},
   "source": [
    "2. Write a program that reads a string from keyboard and display: \n",
    "* The number of uppercase letters in the string \n",
    "* The number of lowercase letters in the string \n",
    "* The number of digits in the string \n",
    "* The number of whitespace characters in the string "
   ]
  },
  {
   "cell_type": "code",
   "execution_count": 11,
   "id": "09848ffb-7391-4ae8-9ca8-6a2e569950fe",
   "metadata": {},
   "outputs": [
    {
     "name": "stdin",
     "output_type": "stream",
     "text": [
      "Enter a string:  Bilal897\n"
     ]
    },
    {
     "name": "stdout",
     "output_type": "stream",
     "text": [
      "Number of uppercase letters: 1\n",
      "Number of lowercase letters: 4\n",
      "Number of digits: 3\n",
      "Number of whitespace characters: 0\n"
     ]
    }
   ],
   "source": [
    "# Function to count different types of characters in a string\n",
    "def count_characters(string):\n",
    "    uppercase_count = 0\n",
    "    lowercase_count = 0\n",
    "    digit_count = 0\n",
    "    whitespace_count = 0\n",
    "\n",
    "    for char in string:\n",
    "        if char.isupper():\n",
    "            uppercase_count += 1\n",
    "        elif char.islower():\n",
    "            lowercase_count += 1\n",
    "        elif char.isdigit():\n",
    "            digit_count += 1\n",
    "        elif char.isspace():\n",
    "            whitespace_count += 1\n",
    "\n",
    "    return uppercase_count, lowercase_count, digit_count, whitespace_count\n",
    "\n",
    "# Main program\n",
    "user_input = input(\"Enter a string: \")\n",
    "uppercase, lowercase, digits, whitespace = count_characters(user_input)\n",
    "\n",
    "print(\"Number of uppercase letters:\", uppercase)\n",
    "print(\"Number of lowercase letters:\", lowercase)\n",
    "print(\"Number of digits:\", digits)\n",
    "print(\"Number of whitespace characters:\", whitespace)\n"
   ]
  },
  {
   "cell_type": "markdown",
   "id": "4824f0da-c8fb-47fe-86f3-66253cbbe144",
   "metadata": {},
   "source": [
    "3. Write a Python program that accepts a string from user. Your program should create and display a new string where the first and last characters have been exchanged. \n",
    "For example if the user enters the string 'HELLO' then new string would be 'OELLH"
   ]
  },
  {
   "cell_type": "code",
   "execution_count": 14,
   "id": "cd987232-c24e-430f-92e2-ecbf9af31d69",
   "metadata": {},
   "outputs": [
    {
     "name": "stdin",
     "output_type": "stream",
     "text": [
      "Enter a string:  bilal\n"
     ]
    },
    {
     "name": "stdout",
     "output_type": "stream",
     "text": [
      "New string: lilab\n"
     ]
    }
   ],
   "source": [
    "# Function to exchange first and last characters of a string\n",
    "def exchange_first_last(string):\n",
    "    if len(string) < 2:\n",
    "        return string\n",
    "    return string[-1] + string[1:-1] + string[0]\n",
    "\n",
    "'''Example:\n",
    "For the string \"HELLO\":\n",
    "\n",
    "string[-1]: \"O\"\n",
    "string[1:-1]: \"ELL\"\n",
    "string[0]: \"H\"\n",
    "So, string[-1] + string[1:-1] + string[0] results in \"OELLH\"'''\n",
    "\n",
    "# Main program code:\n",
    "user_input = input(\"Enter a string: \")\n",
    "new_string = exchange_first_last(user_input)\n",
    "print(\"New string:\", new_string)\n",
    "\n"
   ]
  },
  {
   "cell_type": "markdown",
   "id": "4fef0430-8ab6-4171-9da7-d4f93edeade7",
   "metadata": {},
   "source": [
    "4. Write a Python program that accepts a string from user. Your program should create a new string in reverse of first string and display it.\n",
    "   For example if the user enters the string 'EXAM' then new string would be 'MAXE'"
   ]
  },
  {
   "cell_type": "code",
   "execution_count": 15,
   "id": "3c7a0d21-db5b-42eb-b7d5-2403b22441a7",
   "metadata": {},
   "outputs": [
    {
     "name": "stdin",
     "output_type": "stream",
     "text": [
      "Enter a string:  Saylani\n"
     ]
    },
    {
     "name": "stdout",
     "output_type": "stream",
     "text": [
      "The reversed string is: inalyaS\n"
     ]
    }
   ],
   "source": [
    "# Accept a string from the user\n",
    "user_string = input(\"Enter a string: \")\n",
    "\n",
    "# Create a new string that is the reverse _ first string\n",
    "reversed_string = user_string[::-1]\n",
    "\n",
    "#   the new string\n",
    "print(\"The reversed string is:\", reversed_string)\n"
   ]
  },
  {
   "cell_type": "markdown",
   "id": "b08c94fb-3431-4f08-9ab3-851b7dfe50e3",
   "metadata": {},
   "source": [
    "5. Write a Python program that accepts a string from user. Your program should create a new string by shifting one position to left.\n",
    "   For example if the user enters the string 'examination 2021' then new string would be 'xamination 2021e'"
   ]
  },
  {
   "cell_type": "code",
   "execution_count": 1,
   "id": "9594f06b-ce19-4904-b8bb-2744084347cd",
   "metadata": {},
   "outputs": [
    {
     "name": "stdin",
     "output_type": "stream",
     "text": [
      "Enter a string:  examination 2021\n"
     ]
    },
    {
     "name": "stdout",
     "output_type": "stream",
     "text": [
      "The shifted string is: xamination 2021e\n"
     ]
    }
   ],
   "source": [
    "# Accept a string from  user\n",
    "user_string = input(\"Enter a string: \")\n",
    "\n",
    "# Create a new string by shifting one position to the left\n",
    "shifted_string = user_string[1:] + user_string[0]\n",
    "\n",
    "# new string\n",
    "print(\"The shifted string is:\", shifted_string)\n"
   ]
  },
  {
   "cell_type": "markdown",
   "id": "9cee9079-2e93-43e0-8fbe-4591a6395e00",
   "metadata": {},
   "source": [
    " 6. Write a program that asks the user to input his name and print its initials. Assuming that the user always types first name, middle name and last name and does not include any unnecessary spaces.\n",
    "For example, if the user enters Ajay Kumar Garg the program should display A. K. G. \n",
    "Note:Don't use split() method"
   ]
  },
  {
   "cell_type": "code",
   "execution_count": 2,
   "id": "e5ba17a1-bb4a-4dd3-8a4d-81c2ef8b141a",
   "metadata": {},
   "outputs": [
    {
     "name": "stdin",
     "output_type": "stream",
     "text": [
      "Enter your full name (first name, middle name, last name):  bilal Ahmed abrar\n"
     ]
    },
    {
     "name": "stdout",
     "output_type": "stream",
     "text": [
      "Your initials are: B. A. A.\n"
     ]
    }
   ],
   "source": [
    "# full name user:\n",
    "full_name = input(\"Enter your full name (first name, middle name, last name): \")\n",
    "\n",
    "# string for the initials\n",
    "initials = \"\"\n",
    "\n",
    "# Loop through each character in the full name\n",
    "for i in range(len(full_name)):\n",
    "    # Check if the character is the first character or follows a space\n",
    "    if i == 0 or full_name[i-1] == ' ':\n",
    "        # Add the character followed by a period to the initials\n",
    "        initials += full_name[i].upper() + '. '\n",
    "\n",
    "# Display the initials\n",
    "print(\"Your initials are:\", initials.strip())\n"
   ]
  },
  {
   "cell_type": "markdown",
   "id": "d6bcc493-2e1b-4b08-8037-ee2c3dc75a6b",
   "metadata": {},
   "source": [
    "7. A palindrome is a string that reads the same backward as forward. For example, the words dad, madam and radar are all palindromes. Write a programs that determines whether the string is a palindrome. \n",
    "Note: do not use reverse() method "
   ]
  },
  {
   "cell_type": "code",
   "execution_count": 4,
   "id": "937edecb-1037-47a1-b644-0a38596b2994",
   "metadata": {},
   "outputs": [
    {
     "name": "stdin",
     "output_type": "stream",
     "text": [
      "Enter a string:  racecar\n"
     ]
    },
    {
     "name": "stdout",
     "output_type": "stream",
     "text": [
      "The string is a palindrome.\n"
     ]
    }
   ],
   "source": [
    "# Accept a string from the user\n",
    "user_string = input(\"Enter a string: \")\n",
    "\n",
    "# Initialize a variable to store the reversed string\n",
    "reversed_string = \"\"\n",
    "\n",
    "# Loop through the original string in reverse order\n",
    "for char in user_string:\n",
    "    reversed_string = char + reversed_string\n",
    "\n",
    "# Check if the original string is equal to the reversed string\n",
    "if user_string == reversed_string:\n",
    "    print(\"The string is a palindrome.\")\n",
    "else:\n",
    "    print(\"The string is not a palindrome.\")\n"
   ]
  },
  {
   "cell_type": "code",
   "execution_count": null,
   "id": "710dffd9-b643-40d3-822f-00d635d9e8c3",
   "metadata": {},
   "outputs": [],
   "source": [
    "8. Write a program that display following output: \n",
    "SHIFT \n",
    "HIFTS \n",
    "IFTSH \n",
    "FTSHI \n",
    "TSHIF "
   ]
  },
  {
   "cell_type": "code",
   "execution_count": 7,
   "id": "73e0edd5-07da-49dc-af7d-6c9c633017fd",
   "metadata": {},
   "outputs": [
    {
     "name": "stdout",
     "output_type": "stream",
     "text": [
      "SHIFT\n",
      "HIFTS\n",
      "IFTSH\n",
      "FTSHI\n",
      "TSHIF\n"
     ]
    }
   ],
   "source": [
    "# Define the string\n",
    "original_string = \"SHIFT\"\n",
    "\n",
    "# Loop to print the shifted strings\n",
    "for i in range(len(original_string)):\n",
    "    # Create the shifted string by slicing and concatenating\n",
    "    shifted_string = original_string[i:] + original_string[:i]\n",
    "    print(shifted_string)\n"
   ]
  },
  {
   "cell_type": "markdown",
   "id": "77802b3a-7cef-4ddc-9c19-75b00b348666",
   "metadata": {},
   "source": [
    "9. Write a program in python that accepts a string to setup a passwords. Your entered password must meet the following requirements:\n",
    "The password must be at least eight characters long. \n",
    "It must contain at least one uppercase letter. \n",
    "It must contain at least one lowercase letter. \n",
    "It must contain at least one numeric digit. \n",
    "Your program should should perform this validation."
   ]
  },
  {
   "cell_type": "code",
   "execution_count": 11,
   "id": "d01fdbe8-645d-4b79-9c6b-03763d965bb9",
   "metadata": {},
   "outputs": [
    {
     "name": "stdin",
     "output_type": "stream",
     "text": [
      "Enter a password:  Bilalab9\n"
     ]
    },
    {
     "name": "stdout",
     "output_type": "stream",
     "text": [
      "Password is valid.\n"
     ]
    }
   ],
   "source": [
    "# Function to validate the password\n",
    "def validate_password(password):\n",
    "    # Check if the password is at least eight characters long\n",
    "    if len(password) < 8:\n",
    "        return \"Password must be at least eight characters long.\"\n",
    "    \n",
    "    # Check if the password contains at least one uppercase letter\n",
    "    if not any(char.isupper() for char in password):\n",
    "        return \"Password must contain at least one uppercase letter.\"\n",
    "    \n",
    "    # Check if the password contains at least one lowercase letter\n",
    "    if not any(char.islower() for char in password):\n",
    "        return \"Password must contain at least one lowercase letter.\"\n",
    "    \n",
    "    # Check if the password contains at least one numeric digit\n",
    "    if not any(char.isdigit() for char in password):\n",
    "        return \"Password must contain at least one numeric digit.\"\n",
    "    \n",
    "    return \"Password is valid.\"\n",
    "\n",
    "# Accept a password from the user\n",
    "user_password = input(\"Enter a password: \")\n",
    "\n",
    "# Validate the password\n",
    "validation_result = validate_password(user_password)\n",
    "\n",
    "# Display the validation result\n",
    "print(validation_result)\n"
   ]
  },
  {
   "cell_type": "code",
   "execution_count": null,
   "id": "37e5be29-7433-4dcf-9107-5757b5ec5be4",
   "metadata": {},
   "outputs": [],
   "source": []
  }
 ],
 "metadata": {
  "kernelspec": {
   "display_name": "Python 3 (ipykernel)",
   "language": "python",
   "name": "python3"
  },
  "language_info": {
   "codemirror_mode": {
    "name": "ipython",
    "version": 3
   },
   "file_extension": ".py",
   "mimetype": "text/x-python",
   "name": "python",
   "nbconvert_exporter": "python",
   "pygments_lexer": "ipython3",
   "version": "3.11.7"
  }
 },
 "nbformat": 4,
 "nbformat_minor": 5
}
